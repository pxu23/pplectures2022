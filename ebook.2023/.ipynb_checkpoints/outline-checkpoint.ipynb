{
 "cells": [
  {
   "cell_type": "code",
   "execution_count": null,
   "id": "f3683d5d-c1e0-4b87-ab78-106fd7caf46a",
   "metadata": {},
   "outputs": [],
   "source": []
  },
  {
   "cell_type": "markdown",
   "id": "bdb43aa9-0a0b-4f7c-9c04-bf84b4a76be2",
   "metadata": {},
   "source": [
    "### Outline\n",
    "\n",
    "* Introduction (very brief)\n",
    "* Concept 1: Parallelism\n",
    "    * 2.1. A First Program\n",
    "    * 2.2 Amdahls Law\n",
    "    * Strong Scaling\n",
    "* Tool 1: Joblib\n",
    "    * Python parallel processes\n",
    "    * The GIL\n",
    "* Concept 2: CPU Parallelism\n",
    "    * What is a CPU? (evolution of CPUs, motivation for parallelism, Moore's Law)\n",
    "    * Multicore\n",
    "        * Shared-memory\n",
    "    * ILP\n",
    "        * Pipelines \n",
    "        * Vectorization\n",
    "        * (XX) Other Sources (out-of-order execution, branch prediction, speculative execution)\n",
    "* Concept 3: Factors Against Parallelism\n",
    "    * Interference\n",
    "    * Skew\n",
    "    * Startup costs\n",
    "* Tools 1: OpenMP (https://hpc-tutorials.llnl.gov/openmp/)\n",
    "    * What is OpenMP (parallel C/Fortran on multicore, shared-memory architectures)\n",
    "    * Serial to Parallel Refactoring\n",
    "    * System overview\n",
    "        * Preprocessor\n",
    "        * Library\n",
    "        * Runtime\n",
    "    * Exmample #parallel directive\n",
    "        * Blocks and scoping\n",
    "    * Interacting with the environment\n",
    "        * openmp library calls\n",
    "        * (box) querying your processor\n",
    "    * fork/join parallelism\n",
    "* Concept 4: Loop Parallelism\n",
    "    * \n",
    "    * Skew and dynamic scheduling\n",
    "* Tools 2: Vector Intrinsics\n",
    "\n",
    "* Beyond Scope 1: NUMA\n",
    "  * NUMA architecture\n",
    "  * Demonstarting Example\n",
    "  * (XX) Detecting and Programming to NUMA\n",
    "    * numactl and libnuma\n",
    "    * different between NUMA and hierarchy heterogeneity\n",
    "    "
   ]
  },
  {
   "cell_type": "code",
   "execution_count": null,
   "id": "60371862-c143-4998-b8c4-bbc46d957388",
   "metadata": {},
   "outputs": [],
   "source": []
  }
 ],
 "metadata": {
  "kernelspec": {
   "display_name": "Python 3 (ipykernel)",
   "language": "python",
   "name": "python3"
  },
  "language_info": {
   "codemirror_mode": {
    "name": "ipython",
    "version": 3
   },
   "file_extension": ".py",
   "mimetype": "text/x-python",
   "name": "python",
   "nbconvert_exporter": "python",
   "pygments_lexer": "ipython3",
   "version": "3.10.9"
  }
 },
 "nbformat": 4,
 "nbformat_minor": 5
}
