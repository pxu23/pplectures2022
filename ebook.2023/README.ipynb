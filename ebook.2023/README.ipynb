{
 "cells": [
  {
   "cell_type": "markdown",
   "id": "c26b310f-59f9-4347-bad2-1b4e1e6fe6fe",
   "metadata": {},
   "source": [
    "## Python/Jupyter/Conda/Github (Running the Lectures)\n",
    "\n",
    "(Almost) all lectures will be presented in Jupyter notebooks. Students are encouraged to run the notebooks interactively during the lectures to follow examples. We will often vary code during class to examine the effects of parameters, identify and resolve bugs, etc.\n",
    "\n",
    "The tools we are going to use for lectures:\n",
    "  * python -- interpreted programming language favored by CS-oriented data scientist and ML folks\n",
    "  * conda -- package manager and configuration environment for Python\n",
    "  * jupyter lab -- literate programming environment that mixes code and markdown\n",
    "  * github -- cloud-based repository management for sharing stuff\n",
    "\n",
    "To get here, we need to do the following:\n",
    "\n",
    "1. Install python: \n",
    "  - For windows, I recommend using WSL (Windows Systems for Linux). I am running Ubuntu 20.04.2 LTS which comes with Python 3.8\n",
    "  - For MacOSX, \n",
    "  \n",
    "2. Install conda:\n",
    "  - Anaconda prefers that you download an installer from https://www.anaconda.com/products/individual\n",
    "  - If you are using WSL, you need to download and run the Ubuntu installer\n",
    "\n",
    "3. Create and activate a conda virtual environment\n",
    "```\n",
    "conda create -n pp\n",
    "conda activate pp\n",
    "```\n",
    "<br>\n",
    "\n",
    "4. Install the python packages\n",
    "```\n",
    "conda install numba scikit-learn scikit-image jupyterlab pip matplotlib\n",
    "```\n",
    "<br>\n",
    "\n",
    "\n",
    "6. Clone the github repository and move into directory\n",
    "```\n",
    "git clone https://github.com/randalburns/pplectures2022.git\n",
    "cd pplectures2022\n",
    "```\n",
    "<br>\n",
    "\n",
    "7. Run jupyter lab\n",
    "```\n",
    "jupyter lab\n",
    "```\n",
    "<br>\n",
    "and launch this notebook.\n",
    "\n"
   ]
  },
  {
   "cell_type": "code",
   "execution_count": null,
   "id": "85ae039c-13bb-4325-8eb6-3fceee098343",
   "metadata": {},
   "outputs": [],
   "source": []
  }
 ],
 "metadata": {
  "kernelspec": {
   "display_name": "Python 3 (ipykernel)",
   "language": "python",
   "name": "python3"
  },
  "language_info": {
   "codemirror_mode": {
    "name": "ipython",
    "version": 3
   },
   "file_extension": ".py",
   "mimetype": "text/x-python",
   "name": "python",
   "nbconvert_exporter": "python",
   "pygments_lexer": "ipython3",
   "version": "3.10.9"
  }
 },
 "nbformat": 4,
 "nbformat_minor": 5
}
