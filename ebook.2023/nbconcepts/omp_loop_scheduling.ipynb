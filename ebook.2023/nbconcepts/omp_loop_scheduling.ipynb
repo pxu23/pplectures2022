{
 "cells": [
  {
   "cell_type": "code",
   "execution_count": null,
   "id": "70a4121c-7667-481b-9da5-4fd0f991e75b",
   "metadata": {},
   "outputs": [],
   "source": [
    "### Loop Scheduling\n",
    "\n",
    "This is really an aside. I just want you to know that it exists.\n",
    "\n",
    "The full looping directive includes the specification of a scheduling directive and a chunk size\n",
    "```c\n",
    "#pragma omp parallel for schedule(kind [,chunk size])\n",
    "```\n",
    "in which schedule can be one of:\n",
    "* Static -- divide loop into equal sized chunks\n",
    "* Dynamic -- build internal work queue and dispatch blocksize at a time\n",
    "* Guided -- dynamic scheduling with decreasing block size for load balance\n",
    "* Auto -- compiler chooses from above\n",
    "* Runtime -- runtime configuration chooses from above\n"
   ]
  },
  {
   "cell_type": "markdown",
   "id": "5f173a4d-f9f1-4d92-ab83-3f4b7f9612a4",
   "metadata": {
    "tags": []
   },
   "source": [
    "**TODO** build a loop scheduling example."
   ]
  },
  {
   "cell_type": "code",
   "execution_count": null,
   "id": "0054466b-bd28-4f61-a8a1-6a523ee9465d",
   "metadata": {},
   "outputs": [],
   "source": []
  }
 ],
 "metadata": {
  "kernelspec": {
   "display_name": "Python 3 (ipykernel)",
   "language": "python",
   "name": "python3"
  },
  "language_info": {
   "codemirror_mode": {
    "name": "ipython",
    "version": 3
   },
   "file_extension": ".py",
   "mimetype": "text/x-python",
   "name": "python",
   "nbconvert_exporter": "python",
   "pygments_lexer": "ipython3",
   "version": "3.10.9"
  }
 },
 "nbformat": 4,
 "nbformat_minor": 5
}
