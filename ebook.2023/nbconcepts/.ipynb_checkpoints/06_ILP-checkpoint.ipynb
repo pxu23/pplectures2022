{
 "cells": [
  {
   "cell_type": "markdown",
   "id": "faaefe4f-645a-46d3-89f8-93dba9cf3d7a",
   "metadata": {},
   "source": [
    "### Instruction-Level Parallelism \n",
    "\n",
    "Instruction-Level Parallelism (ILP) refers to the parallel execution of a sequence of instructions in a program. The amount of parallelism is measured by the number of instructions completed per cycle. ILP is not concurrent execution, because there is only a single-thread serial program. Rather, it is a set of techniques that are used to ensure that a processor completes as many instructions as possible by executing them simultaneously.  These techniques include:\n",
    "\n",
    "* Instruction pipelining: instructions are completed in stages that can be overlapped when instructions are independent.\n",
    "\n",
    "* Vector processing: multiple instructions can be executed in parallel on adjacent data.  This is a subset of superscalar processing, which is a more general term that includes the idea of using different hardware units at the same time. \n",
    "\n",
    "* Out-of-order execution: Instructions may be run in an order different than written in the program. This can be done statically at compile time or dynamically by the hardware.\n",
    "\n",
    "* Speculative execution (branch prediction): Running a program past a control point. Most often this is done by predicting the outcome of an if-else branch and running the program past the expected outcome. \n",
    "\n",
    "\n",
    "One should be aware that all of these techniques exist and have a high-level understanding of them. As a parallel programmer, only **vector processing** has a programmatic interface that you will use. That is our next example and exercise.\n",
    "\n",
    "It is typical to assume that CPUs complete one instruction per cycle. This is *NOT TRUE*. The completion rate is a complex function of architecture and program.\n",
    "This is measured by:\n",
    "* Cycles per instruction (CPI): # of clock cycles / # of instructions\n",
    "* Instructions per cycles (IPC): # of instructions / # of clock cycles\n",
    "These are dynamic measures taking against a running program. It is more typical to use CPI in parallel computing, because we are expecting to complete more than one.  \n",
    "\n",
    "If you would like to go down the well, you can look at the [instruction tables](https://www.agner.org/optimize/instruction_tables.pdf) at the [Software optimization resources](https://www.agner.org/optimize/) page.\n",
    "On many processers, the simplest instructions take about one cycle and complex instructions (such as division) take tens of cycles. "
   ]
  },
  {
   "cell_type": "markdown",
   "id": "5a8b8034-8b9b-46b7-bf0d-48c655d30b84",
   "metadata": {},
   "source": [
    "#### Instruction Pipelining\n",
    "\n",
    "Having a high-level knowledge of instruction pipeling is valuable in writing efficient code, be it parallel or not. The illustrated example of the [Wikipedia page](https://en.wikipedia.org/wiki/Instruction_pipelining) and the subsequent pipeline bubble example are sufficient. You should understand the following concepts:\n",
    "* Instructions consist of multiple stages of execution\n",
    "* Each stage can operate at the same time\n",
    "* Independent instructions are issued and complete at a rate of one per clock cycle\n",
    "* Data dependencies between instructions result in stalls/bubbles that prevent concurrent execution\n",
    "* Waiting on instructions or data (often from memory) can prevent instructions from being issued\n",
    "\n",
    "Managing the pipeline is the domain of the compiler writer or assmebly-level programmer. However, an application programmer that is aware of pipelines can write programs that are easier for the compiler to process by minimizing data dependencies, avoiding unneccessary branches, or explicitly prefetching data. "
   ]
  },
  {
   "cell_type": "code",
   "execution_count": null,
   "id": "7e98eaa4-5765-4eef-a332-d9c19ea04e3f",
   "metadata": {},
   "outputs": [],
   "source": [
    "exercise -- cpi"
   ]
  }
 ],
 "metadata": {
  "kernelspec": {
   "display_name": "Python 3 (ipykernel)",
   "language": "python",
   "name": "python3"
  },
  "language_info": {
   "codemirror_mode": {
    "name": "ipython",
    "version": 3
   },
   "file_extension": ".py",
   "mimetype": "text/x-python",
   "name": "python",
   "nbconvert_exporter": "python",
   "pygments_lexer": "ipython3",
   "version": "3.10.9"
  }
 },
 "nbformat": 4,
 "nbformat_minor": 5
}
