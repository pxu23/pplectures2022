{
 "cells": [
  {
   "cell_type": "markdown",
   "id": "5a90a14e-6f10-496b-b8f5-d4c3776d12a9",
   "metadata": {},
   "source": [
    "## What is Parallel Programming??\n",
    "\n",
    "### Motivation for this Class\n",
    "\n",
    "* Parallelism is everywhere!\n",
    "    * Multicore, GPU, cloud, HPC, ML\n",
    "    * Every program/programmer needs to address it\n",
    "* Traditional CS curriculum totally misses the point\n",
    "    * Model the world as serial algorithms\n",
    "    \n",
    "    \n",
    "### Who should take this course?\n",
    " \n",
    "* Designed for Undergraduates in CS: \n",
    "    * quick lift of skills good for employers and internships\n",
    "* Suitable for graduate students in Science and Engineering\n",
    "    * Mimimize dependencies on other CS courses\n",
    "    * Self-contained treatment of OS, architecture, \n",
    "* Engineering and programming approach\n",
    "    * Mostly ignore the theory of parallel computation\n",
    "    * Focus on how programming languages interact with hardware architecture (particularly the memory system)\n",
    "    \n",
    "### What's a computer look like?\n",
    "\n",
    "* Turing machine \n",
    "\n",
    "![Turing Machhine Cartoon](https://i0.wp.com/www.worldofcomputing.net/wp-content/uploads/2013/01/turingMachine.gif?zoom=2&resize=400%2C274 \"Cartoon\")\n",
    "\n",
    "* Universal Turing Machine\n",
    "\n",
    "<img src=\"https://upload.wikimedia.org/wikipedia/commons/thumb/4/43/Universal_Turing_machine.svg/1600px-Universal_Turing_machine.svg.png\" width=\"512\" title=\"Universal TM\" />\n",
    "\n",
    "* Von Neumann Architecture\n",
    "\n",
    "<img src=\"https://upload.wikimedia.org/wikipedia/commons/thumb/e/e5/Von_Neumann_Architecture.svg/2880px-Von_Neumann_Architecture.svg.png\" width=\"512\" title=\"Von Neumann Architecture\" />    \n",
    "\n",
    "#### Properties of \"Computers\"\n",
    "\n",
    "* Sequential processing\n",
    "    * Control or logic flow  \n",
    "* Algorithm costs measured in this model\n",
    "    * Big-O notation counts number of sequential steps\n",
    "* This is the basis for the CS curriculum\n",
    "    * And it’s just wrong\n",
    "    * Computers are not sequential and performance is more nuanced than counting the number of steps \n",
    "* We look at computers as parallel entities\n",
    "    * Do many tasks concurrently\n",
    "    * Tasks interfere with each other\n",
    "    * More accurately reflects hardware and bottlenecks\n",
    "* What about parallel computation models?\n",
    "    * Exist but not useful, because reality collides with the abstraction\n",
    "    * The following schematic shows a PRAM (Parallel RAM) computational model. We will not discuss.\n",
    " \n",
    "<img src=\"https://d3e8mc9t3dqxs7.cloudfront.net/wp-content/uploads/sites/11/2016/02/PRAM-Model.png\" width=\"512\" title=\"PRAM\" /> \n",
    "\n"
   ]
  },
  {
   "cell_type": "markdown",
   "id": "02364361-7f36-4555-b0d6-a15b3d9f9d83",
   "metadata": {},
   "source": [
    "Parallelism is ubiquitous in today's computing landscape, with multiple cores, GPUs, cloud computing, high-performance computing (HPC), and machine learning (ML) platforms becoming increasingly prevalent. Consequently, it has become imperative for every programmer and program to effectively harness the power of parallel computing.\n",
    "\n",
    "However, the traditional computer science curriculum often fails to adequately address this need. The focus of the curriculum has historically been on modeling the world using serial algorithms, which are designed to execute sequentially rather than in parallel.\n",
    "\n",
    "Recognizing the significance of parallelism in modern computing, this class aims to bridge the gap by providing students with a comprehensive understanding of parallel computing principles, techniques, and best practices. By equipping students with the necessary knowledge and skills, the class seeks to empower them to leverage parallelism effectively and efficiently.\n",
    "\n",
    "This course is designed for the following audiences:\n",
    "\n",
    "* Undergraduates in Computer Science: The course offers a quick lift of skills that are highly valuable to employers and can enhance internship prospects. By taking this course, students can acquire practical parallel computing skills that are in demand in various industries.\n",
    "\n",
    "* Graduate students in Science and Engineering: The course is designed to minimize dependencies on other computer science courses, making it accessible to students from diverse academic backgrounds. The course provides a self-contained treatment of operating systems, computer architecture, and other relevant topics.\n",
    "\n",
    "The course takes an engineering and programming approach, focusing on practical applications rather than delving deeply into the theoretical aspects of parallel computation. This approach makes the course accessible and beneficial to individuals who are more interested in understanding how programming languages interact with hardware architecture, particularly the memory system."
   ]
  },
  {
   "cell_type": "code",
   "execution_count": null,
   "id": "7bb66530-4f19-40e2-b5f4-be8a7b65d7f2",
   "metadata": {},
   "outputs": [],
   "source": []
  }
 ],
 "metadata": {
  "kernelspec": {
   "display_name": "Python 3 (ipykernel)",
   "language": "python",
   "name": "python3"
  },
  "language_info": {
   "codemirror_mode": {
    "name": "ipython",
    "version": 3
   },
   "file_extension": ".py",
   "mimetype": "text/x-python",
   "name": "python",
   "nbconvert_exporter": "python",
   "pygments_lexer": "ipython3",
   "version": "3.10.9"
  }
 },
 "nbformat": 4,
 "nbformat_minor": 5
}
